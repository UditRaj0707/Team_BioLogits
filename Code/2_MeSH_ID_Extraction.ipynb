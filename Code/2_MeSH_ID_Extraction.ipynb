{
  "cells": [
    {
      "cell_type": "code",
      "execution_count": null,
      "metadata": {
        "_cell_guid": "b1076dfc-b9ad-4769-8c92-a6c4dae69d19",
        "_uuid": "8f2839f25d086af736a60e9eeb907d3b93b6e0e5",
        "execution": {
          "iopub.execute_input": "2025-01-23T18:06:51.727871Z",
          "iopub.status.busy": "2025-01-23T18:06:51.727617Z",
          "iopub.status.idle": "2025-01-23T18:07:31.674339Z",
          "shell.execute_reply": "2025-01-23T18:07:31.673593Z",
          "shell.execute_reply.started": "2025-01-23T18:06:51.727838Z"
        },
        "trusted": true,
        "colab": {
          "referenced_widgets": [
            "86356ee4bb554ed7800f77165b39b6a4",
            "036b5636297646e38ca859ab15157f33",
            "34016e07f81c45d3839457a3fba61fc3",
            "53e148d35002454cab497bc2bd1bf87b",
            "93c396d727e04dbeb750b7b9d6fef548",
            "53e0cbf03b7640c4b3f01b43486b4ed1",
            "b7f7f1d729034d5ea5c80b314fa18039",
            "0a88fd701aaf4a829b3421cccfb78bc2",
            "917d4e2ce1c44007af9839bf68953a72",
            "52c9000bae9448b39d3ed82d920e8301",
            "6faefdef17da40c98cf04692e3c92341"
          ]
        },
        "id": "_tYSmgujrUWe",
        "outputId": "648542b3-f9f6-46a9-98df-2c7d64e20ced"
      },
      "outputs": [
        {
          "name": "stdout",
          "output_type": "stream",
          "text": [
            "Using device: cuda\n"
          ]
        },
        {
          "data": {
            "application/vnd.jupyter.widget-view+json": {
              "model_id": "86356ee4bb554ed7800f77165b39b6a4",
              "version_major": 2,
              "version_minor": 0
            },
            "text/plain": [
              "modules.json:   0%|          | 0.00/349 [00:00<?, ?B/s]"
            ]
          },
          "metadata": {},
          "output_type": "display_data"
        },
        {
          "data": {
            "application/vnd.jupyter.widget-view+json": {
              "model_id": "036b5636297646e38ca859ab15157f33",
              "version_major": 2,
              "version_minor": 0
            },
            "text/plain": [
              "config_sentence_transformers.json:   0%|          | 0.00/201 [00:00<?, ?B/s]"
            ]
          },
          "metadata": {},
          "output_type": "display_data"
        },
        {
          "data": {
            "application/vnd.jupyter.widget-view+json": {
              "model_id": "34016e07f81c45d3839457a3fba61fc3",
              "version_major": 2,
              "version_minor": 0
            },
            "text/plain": [
              "README.md:   0%|          | 0.00/3.04k [00:00<?, ?B/s]"
            ]
          },
          "metadata": {},
          "output_type": "display_data"
        },
        {
          "data": {
            "application/vnd.jupyter.widget-view+json": {
              "model_id": "53e148d35002454cab497bc2bd1bf87b",
              "version_major": 2,
              "version_minor": 0
            },
            "text/plain": [
              "sentence_bert_config.json:   0%|          | 0.00/53.0 [00:00<?, ?B/s]"
            ]
          },
          "metadata": {},
          "output_type": "display_data"
        },
        {
          "data": {
            "application/vnd.jupyter.widget-view+json": {
              "model_id": "93c396d727e04dbeb750b7b9d6fef548",
              "version_major": 2,
              "version_minor": 0
            },
            "text/plain": [
              "config.json:   0%|          | 0.00/743 [00:00<?, ?B/s]"
            ]
          },
          "metadata": {},
          "output_type": "display_data"
        },
        {
          "data": {
            "application/vnd.jupyter.widget-view+json": {
              "model_id": "53e0cbf03b7640c4b3f01b43486b4ed1",
              "version_major": 2,
              "version_minor": 0
            },
            "text/plain": [
              "model.safetensors:   0%|          | 0.00/438M [00:00<?, ?B/s]"
            ]
          },
          "metadata": {},
          "output_type": "display_data"
        },
        {
          "data": {
            "application/vnd.jupyter.widget-view+json": {
              "model_id": "b7f7f1d729034d5ea5c80b314fa18039",
              "version_major": 2,
              "version_minor": 0
            },
            "text/plain": [
              "tokenizer_config.json:   0%|          | 0.00/1.24k [00:00<?, ?B/s]"
            ]
          },
          "metadata": {},
          "output_type": "display_data"
        },
        {
          "data": {
            "application/vnd.jupyter.widget-view+json": {
              "model_id": "0a88fd701aaf4a829b3421cccfb78bc2",
              "version_major": 2,
              "version_minor": 0
            },
            "text/plain": [
              "vocab.txt:   0%|          | 0.00/232k [00:00<?, ?B/s]"
            ]
          },
          "metadata": {},
          "output_type": "display_data"
        },
        {
          "data": {
            "application/vnd.jupyter.widget-view+json": {
              "model_id": "917d4e2ce1c44007af9839bf68953a72",
              "version_major": 2,
              "version_minor": 0
            },
            "text/plain": [
              "tokenizer.json:   0%|          | 0.00/711k [00:00<?, ?B/s]"
            ]
          },
          "metadata": {},
          "output_type": "display_data"
        },
        {
          "data": {
            "application/vnd.jupyter.widget-view+json": {
              "model_id": "52c9000bae9448b39d3ed82d920e8301",
              "version_major": 2,
              "version_minor": 0
            },
            "text/plain": [
              "special_tokens_map.json:   0%|          | 0.00/695 [00:00<?, ?B/s]"
            ]
          },
          "metadata": {},
          "output_type": "display_data"
        },
        {
          "data": {
            "application/vnd.jupyter.widget-view+json": {
              "model_id": "6faefdef17da40c98cf04692e3c92341",
              "version_major": 2,
              "version_minor": 0
            },
            "text/plain": [
              "1_Pooling/config.json:   0%|          | 0.00/296 [00:00<?, ?B/s]"
            ]
          },
          "metadata": {},
          "output_type": "display_data"
        }
      ],
      "source": [
        "import pandas as pd\n",
        "from sentence_transformers import SentenceTransformer\n",
        "import numpy as np\n",
        "import json\n",
        "import torch\n",
        "\n",
        "device = \"cuda\" if torch.cuda.is_available() else \"cpu\"\n",
        "print(f\"Using device: {device}\")\n",
        "\n",
        "model = SentenceTransformer(\"abhinand/MedEmbed-base-v0.1\", device=device)\n",
        "\n",
        "d1 = pd.read_csv(\"/kaggle/input/descriptor/descriptor-terms.tsv\", sep=\"\\t\")\n",
        "\n",
        "terms = d1['TermName'].tolist()\n",
        "term_ids = d1['DescriptorUI'].tolist()"
      ]
    },
    {
      "cell_type": "code",
      "execution_count": null,
      "metadata": {
        "execution": {
          "iopub.execute_input": "2025-01-23T18:07:31.675301Z",
          "iopub.status.busy": "2025-01-23T18:07:31.675088Z",
          "iopub.status.idle": "2025-01-23T18:07:42.356970Z",
          "shell.execute_reply": "2025-01-23T18:07:42.356304Z",
          "shell.execute_reply.started": "2025-01-23T18:07:31.675283Z"
        },
        "trusted": true,
        "id": "WvE_eoH_rUWj"
      },
      "outputs": [],
      "source": [
        "df=pd.read_excel(\"/kaggle/input/descriptor/usecase_4_.xlsx\")"
      ]
    },
    {
      "cell_type": "code",
      "execution_count": null,
      "metadata": {
        "execution": {
          "iopub.execute_input": "2025-01-23T18:07:42.358226Z",
          "iopub.status.busy": "2025-01-23T18:07:42.357696Z",
          "iopub.status.idle": "2025-01-23T18:07:42.368540Z",
          "shell.execute_reply": "2025-01-23T18:07:42.367913Z",
          "shell.execute_reply.started": "2025-01-23T18:07:42.358201Z"
        },
        "trusted": true,
        "id": "IotGU7a-rUWk"
      },
      "outputs": [],
      "source": [
        "condition=pd.DataFrame(df[\"Conditions\"].unique())\n",
        "conditions=condition[0].to_list()"
      ]
    },
    {
      "cell_type": "code",
      "execution_count": null,
      "metadata": {
        "execution": {
          "iopub.execute_input": "2025-01-23T18:07:42.370626Z",
          "iopub.status.busy": "2025-01-23T18:07:42.370404Z",
          "iopub.status.idle": "2025-01-23T18:09:54.378031Z",
          "shell.execute_reply": "2025-01-23T18:09:54.377376Z",
          "shell.execute_reply.started": "2025-01-23T18:07:42.370607Z"
        },
        "trusted": true,
        "colab": {
          "referenced_widgets": [
            "0412fbdcc60a4e379b70a7014d0d0c13",
            "e12c223cefc34e35b8d5b7e6297debab"
          ]
        },
        "id": "Ek9wVBY_rUWl",
        "outputId": "e759a68b-42ef-4058-8777-de7dc1050122"
      },
      "outputs": [
        {
          "data": {
            "application/vnd.jupyter.widget-view+json": {
              "model_id": "0412fbdcc60a4e379b70a7014d0d0c13",
              "version_major": 2,
              "version_minor": 0
            },
            "text/plain": [
              "Batches:   0%|          | 0/7020 [00:00<?, ?it/s]"
            ]
          },
          "metadata": {},
          "output_type": "display_data"
        },
        {
          "data": {
            "application/vnd.jupyter.widget-view+json": {
              "model_id": "e12c223cefc34e35b8d5b7e6297debab",
              "version_major": 2,
              "version_minor": 0
            },
            "text/plain": [
              "Batches:   0%|          | 0/246 [00:00<?, ?it/s]"
            ]
          },
          "metadata": {},
          "output_type": "display_data"
        }
      ],
      "source": [
        "\n",
        "term_embeddings = model.encode(terms, device=device)\n",
        "condition_embeddings = model.encode(conditions, device=device)"
      ]
    },
    {
      "cell_type": "code",
      "execution_count": null,
      "metadata": {
        "execution": {
          "iopub.execute_input": "2025-01-23T18:09:54.379472Z",
          "iopub.status.busy": "2025-01-23T18:09:54.379166Z",
          "iopub.status.idle": "2025-01-23T18:09:54.384243Z",
          "shell.execute_reply": "2025-01-23T18:09:54.383501Z",
          "shell.execute_reply.started": "2025-01-23T18:09:54.379440Z"
        },
        "trusted": true,
        "id": "MrIIo2AXrUWl"
      },
      "outputs": [],
      "source": [
        "def find_top_k_matches(condition_embedding, term_embeddings, terms, term_ids, k=3):\n",
        "    similarities = np.dot(term_embeddings, condition_embedding) / (\n",
        "        np.linalg.norm(term_embeddings, axis=1) * np.linalg.norm(condition_embedding)\n",
        "    )\n",
        "\n",
        "    top_k_indices = np.argsort(similarities)[-k:][::-1]\n",
        "\n",
        "    top_k_matches = []\n",
        "    for idx in top_k_indices:\n",
        "        top_k_matches.append({\n",
        "            \"TermID\": term_ids[idx],\n",
        "            \"TermName\": terms[idx],\n",
        "            \"Similarity\": float(similarities[idx])\n",
        "        })\n",
        "    return top_k_matches"
      ]
    },
    {
      "cell_type": "code",
      "execution_count": null,
      "metadata": {
        "execution": {
          "iopub.execute_input": "2025-01-23T18:09:54.385249Z",
          "iopub.status.busy": "2025-01-23T18:09:54.384971Z",
          "iopub.status.idle": "2025-01-23T18:39:56.295703Z",
          "shell.execute_reply": "2025-01-23T18:39:56.294965Z",
          "shell.execute_reply.started": "2025-01-23T18:09:54.385227Z"
        },
        "trusted": true,
        "id": "630RtMOWrUWn",
        "outputId": "64da588f-f912-44c5-c43d-9fac9dbb11e5"
      },
      "outputs": [
        {
          "name": "stderr",
          "output_type": "stream",
          "text": [
            "Processing conditions: 100%|██████████| 7860/7860 [30:01<00:00,  4.36it/s]\n"
          ]
        }
      ],
      "source": [
        "\n",
        "from tqdm import tqdm\n",
        "\n",
        "k = 5\n",
        "result = {}\n",
        "for condition, condition_embedding in tqdm(zip(conditions, condition_embeddings), total=len(conditions), desc=\"Processing conditions\"):\n",
        "    top_k_matches = find_top_k_matches(condition_embedding, term_embeddings, terms, term_ids, k)\n",
        "    result[condition] = top_k_matches\n",
        "\n",
        "\n",
        "json_result = json.dumps(result, indent=4)"
      ]
    },
    {
      "cell_type": "code",
      "execution_count": null,
      "metadata": {
        "execution": {
          "iopub.execute_input": "2025-01-23T18:39:56.296789Z",
          "iopub.status.busy": "2025-01-23T18:39:56.296544Z",
          "iopub.status.idle": "2025-01-23T18:39:56.589474Z",
          "shell.execute_reply": "2025-01-23T18:39:56.588723Z",
          "shell.execute_reply.started": "2025-01-23T18:39:56.296758Z"
        },
        "trusted": true,
        "id": "0-Q4brfkrUWp",
        "outputId": "57a358b1-c533-4751-8064-ad82fa37ce3b"
      },
      "outputs": [
        {
          "name": "stdout",
          "output_type": "stream",
          "text": [
            "JSON result saved to /kaggle/working/output.json\n"
          ]
        }
      ],
      "source": [
        "output_file = \"/kaggle/working/output.json\"\n",
        "with open(output_file, \"w\") as f:\n",
        "    json.dump(result, f, indent=4)\n",
        "\n",
        "print(f\"JSON result saved to {output_file}\")"
      ]
    },
    {
      "cell_type": "code",
      "execution_count": null,
      "metadata": {
        "trusted": true,
        "id": "SYuXxQlhrUWr"
      },
      "outputs": [],
      "source": []
    }
  ],
  "metadata": {
    "kaggle": {
      "accelerator": "gpu",
      "dataSources": [
        {
          "datasetId": 6533819,
          "sourceId": 10560548,
          "sourceType": "datasetVersion"
        }
      ],
      "dockerImageVersionId": 30839,
      "isGpuEnabled": true,
      "isInternetEnabled": true,
      "language": "python",
      "sourceType": "notebook"
    },
    "kernelspec": {
      "display_name": "Python 3",
      "language": "python",
      "name": "python3"
    },
    "language_info": {
      "codemirror_mode": {
        "name": "ipython",
        "version": 3
      },
      "file_extension": ".py",
      "mimetype": "text/x-python",
      "name": "python",
      "nbconvert_exporter": "python",
      "pygments_lexer": "ipython3",
      "version": "3.10.12"
    },
    "colab": {
      "provenance": []
    }
  },
  "nbformat": 4,
  "nbformat_minor": 0
}